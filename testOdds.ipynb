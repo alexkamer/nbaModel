{
 "cells": [
  {
   "cell_type": "code",
   "execution_count": 44,
   "metadata": {},
   "outputs": [
    {
     "name": "stdout",
     "output_type": "stream",
     "text": [
      "[(-0.5, 0.196380675234375), (0.0, 0.34912109375), (0.10000000000000009, 0.244384765625), (0.19999999999999996, 0.13330078125), (0.3999999999999999, 0.0726309478575), (1.0, 0.003662109375), (8.0, 0.00048828125), (15.0, 3.05135781052e-05)]\n",
      "Expected Payback: -0.010013262615109488\n",
      "Simulated payback after 1 games: 0.19999999999999996\n"
     ]
    }
   ],
   "source": [
    "import random\n",
    "import pandas as pd\n",
    "\n",
    "# Define the wheel segments and properties\n",
    "bet_amount = 0.1\n",
    "wheel_segments = {\n",
    "    '0.5': {'payout': bet_amount / 2, \"chanceToLand\": 0.196380675234375},\n",
    "    '1.0': {'payout': bet_amount, \"chanceToLand\": 0.174560546875 * 2},\n",
    "    '1.1': {'payout': bet_amount * 1.1, \"chanceToLand\": 0.1221923828125 * 2},\n",
    "    '1.2': {'payout': bet_amount * 1.2, \"chanceToLand\": 0.066650390625 * 2},\n",
    "    '1.4': {'payout': bet_amount * 1.4, \"chanceToLand\": (0.02777055205375 + 0.008544921875) * 2},\n",
    "    '2.0': {'payout': bet_amount * 2, \"chanceToLand\": 0.0018310546875 * 2},\n",
    "    '9': {'payout': bet_amount * 9, \"chanceToLand\": 0.000244140625 * 2},\n",
    "    '16': {'payout': bet_amount * 16, \"chanceToLand\": 0.0000152567890526 * 2}\n",
    "}\n",
    "\n",
    "spots = [(float(segment)-1, wheel_segments[segment]['chanceToLand']) for segment in wheel_segments]\n",
    "print(spots)\n",
    "\n",
    "def calculate_expected_payback(spots):\n",
    "    return sum(spot[0] * spot[1] for spot in spots)\n",
    "\n",
    "def play_game(spots):\n",
    "    return random.choices(\n",
    "        [spot[0] for spot in spots],\n",
    "        weights=[spot[1] for spot in spots],\n",
    "        k=1\n",
    "    )[0]\n",
    "\n",
    "def simulate_games(spots, n):\n",
    "    total_payout = sum(play_game(spots) for _ in range(n))\n",
    "    return total_payout / n\n",
    "\n",
    "\n",
    "\n",
    "expected_payback = calculate_expected_payback(spots) \n",
    "print(f\"Expected Payback: {expected_payback}\")\n",
    "\n",
    "n_simulations = 1\n",
    "simulated_payback = simulate_games(spots, n_simulations)\n",
    "print(f\"Simulated payback after {n_simulations} games: {simulated_payback}\")"
   ]
  },
  {
   "cell_type": "code",
   "execution_count": 21,
   "metadata": {},
   "outputs": [
    {
     "data": {
      "text/plain": [
       "0.9999991679199802"
      ]
     },
     "execution_count": 21,
     "metadata": {},
     "output_type": "execute_result"
    }
   ],
   "source": [
    "cumulative\n"
   ]
  },
  {
   "cell_type": "code",
   "execution_count": null,
   "metadata": {},
   "outputs": [],
   "source": []
  }
 ],
 "metadata": {
  "kernelspec": {
   "display_name": ".venv",
   "language": "python",
   "name": "python3"
  },
  "language_info": {
   "codemirror_mode": {
    "name": "ipython",
    "version": 3
   },
   "file_extension": ".py",
   "mimetype": "text/x-python",
   "name": "python",
   "nbconvert_exporter": "python",
   "pygments_lexer": "ipython3",
   "version": "3.12.6"
  }
 },
 "nbformat": 4,
 "nbformat_minor": 2
}
